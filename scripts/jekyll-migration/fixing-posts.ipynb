{
 "cells": [
  {
   "cell_type": "code",
   "execution_count": 33,
   "metadata": {},
   "outputs": [],
   "source": [
    "from pathlib import Path\n",
    "p = Path('.')\n",
    "subfiles = [x for x in p.iterdir() if x.is_file()]"
   ]
  },
  {
   "cell_type": "code",
   "execution_count": 34,
   "metadata": {},
   "outputs": [],
   "source": [
    "pending_rename = [x for x in subfiles if x.match(\"*_*\")]\n",
    "for file_ in pending_rename:\n",
    "    new_name = file_.name.replace(\"_\", \"-\").replace(\".html\", \".md\")\n",
    "    file_.rename(new_name)"
   ]
  },
  {
   "cell_type": "code",
   "execution_count": 94,
   "metadata": {},
   "outputs": [],
   "source": [
    "markdown_files = [x for x in p.iterdir() if x.is_file() and x.match(\"*.md\")]\n",
    "\n",
    "import re\n",
    "import fileinput\n",
    "import sys\n",
    "\n",
    "pattern1 = re.compile(r\".*({% *geshi([^%]*)%})(.*)\", re.MULTILINE|re.DOTALL)\n",
    "pattern2 = re.compile(r\"(.*)({% *endgeshi[^%]*%}).*\", re.MULTILINE|re.DOTALL)\n",
    "\n",
    "def ungeshify(file_):\n",
    "    file_name = file_.resolve()\n",
    "    with fileinput.FileInput(file_name, inplace=True) as f:\n",
    "        for line in f:\n",
    "            new_line = line\n",
    "            m = pattern1.search(line)\n",
    "            if m:\n",
    "                new_line = f\"```\"\n",
    "                programming_language = m.group(2)\n",
    "                if programming_language:\n",
    "                    programming_language = programming_language.strip().replace(\"'\", \"\").replace('\"', \"\")\n",
    "                    new_line = f\"{new_line}{programming_language}\\n\"\n",
    "                maybe_content = m.group(3)\n",
    "                if maybe_content and maybe_content.strip():\n",
    "                    new_line = f\"{new_line}{maybe_content}\"\n",
    "            m = pattern2.search(new_line)\n",
    "            if m:\n",
    "                maybe_content = m.group(1)\n",
    "                if maybe_content and maybe_content.strip():\n",
    "                    maybe_content = f\"{maybe_content}\\n\"\n",
    "                else:\n",
    "                    maybe_content = \"\"\n",
    "                new_line = f\"{maybe_content}```\\n\"\n",
    "            sys.stdout.write(new_line)\n",
    "\n",
    "for markdown in markdown_files:\n",
    "    ungeshify(markdown)"
   ]
  },
  {
   "cell_type": "code",
   "execution_count": null,
   "metadata": {},
   "outputs": [],
   "source": []
  }
 ],
 "metadata": {
  "kernelspec": {
   "display_name": "Python 3",
   "language": "python",
   "name": "python3"
  },
  "language_info": {
   "codemirror_mode": {
    "name": "ipython",
    "version": 3
   },
   "file_extension": ".py",
   "mimetype": "text/x-python",
   "name": "python",
   "nbconvert_exporter": "python",
   "pygments_lexer": "ipython3",
   "version": "3.7.2"
  }
 },
 "nbformat": 4,
 "nbformat_minor": 2
}
