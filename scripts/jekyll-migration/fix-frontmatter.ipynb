{
 "cells": [
  {
   "cell_type": "code",
   "execution_count": 30,
   "metadata": {},
   "outputs": [],
   "source": [
    "from pathlib import Path\n",
    "p = Path('.')\n",
    "markdowns = [x for x in p.iterdir() if x.is_file() and x.match(\"*.md\")]"
   ]
  },
  {
   "cell_type": "code",
   "execution_count": 33,
   "metadata": {},
   "outputs": [],
   "source": [
    "import frontmatter\n",
    "import sys\n",
    "\n",
    "for markdown in markdowns:\n",
    "    post = frontmatter.load(markdown.resolve())\n",
    "    post_content = post.content\n",
    "    post_meta = post.metadata\n",
    "    if \"author\" in post_meta:\n",
    "        del post_meta[\"author\"]\n",
    "    if \"category\" in post_meta:\n",
    "        del post_meta[\"category\"]\n",
    "    if \"time\" in post_meta:\n",
    "        time_ = post_meta[\"time\"].strip()\n",
    "        date_ = str(markdown.name)[0:10]\n",
    "        post_meta[\"date\"] = f\"{date_} {time_} +1300\"\n",
    "        del post_meta[\"time\"]\n",
    "    if \"id\" in post_meta:\n",
    "        del post_meta[\"id\"]\n",
    "    post_meta[\"layout\"] = \"post\"\n",
    "    sorted(post_meta)\n",
    "    \n",
    "    with open(markdown.resolve(), \"w+\") as f:\n",
    "        new_post = frontmatter.dumps(post)\n",
    "        f.write(new_post)\n",
    "        f.write(\"\\n\")"
   ]
  },
  {
   "cell_type": "code",
   "execution_count": null,
   "metadata": {},
   "outputs": [],
   "source": []
  }
 ],
 "metadata": {
  "kernelspec": {
   "display_name": "Python 3",
   "language": "python",
   "name": "python3"
  },
  "language_info": {
   "codemirror_mode": {
    "name": "ipython",
    "version": 3
   },
   "file_extension": ".py",
   "mimetype": "text/x-python",
   "name": "python",
   "nbconvert_exporter": "python",
   "pygments_lexer": "ipython3",
   "version": "3.7.2"
  }
 },
 "nbformat": 4,
 "nbformat_minor": 2
}
